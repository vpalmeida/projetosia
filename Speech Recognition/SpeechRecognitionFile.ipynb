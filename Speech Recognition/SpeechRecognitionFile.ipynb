{
 "cells": [
  {
   "cell_type": "raw",
   "metadata": {},
   "source": []
  },
  {
   "cell_type": "markdown",
   "metadata": {},
   "source": [
    "# Utilizando o Speech Recognition para transcrição de arquivo de aúdio em texto"
   ]
  },
  {
   "cell_type": "markdown",
   "metadata": {},
   "source": [
    "## Preparação do ambiente"
   ]
  },
  {
   "cell_type": "markdown",
   "metadata": {},
   "source": [
    "### Essa sessão foi executado no prompt de comando do windows.\n",
    "\n",
    "Instalando a biblioteca SpeechRecognition\n",
    "\n",
    "    pip install SpeechRecognition\n",
    "    \n",
    "Instalando a biblioteca PyAudio\n",
    "\n",
    "Obs: o PyAudio não é suportado pela versão 3.7 do Python. Como a minha versão é a 3.8\n",
    "e eu não queria fazer um downgrade e nem criar uma env para separar o ambiente eu utilizei \n",
    "o \"pipwin\" que instala versões não oficiais para o windows, podendo assim, instalar o PyAudio \n",
    "em uma versão mais atual.\n",
    "\n",
    "    pip install pipwin\n",
    "    pipwin install pyaudio\n",
    " "
   ]
  },
  {
   "cell_type": "markdown",
   "metadata": {},
   "source": [
    "### O código abaixo pega o que é captado no arquivo de aúdio e exibe diretamente no console como resposta."
   ]
  },
  {
   "cell_type": "code",
   "execution_count": 1,
   "metadata": {},
   "outputs": [],
   "source": [
    "#importa a biblioteca de reconhecimento de voz\n",
    "import speech_recognition as sr\n",
    "\n",
    "#Essa função vai ouvir e fazer o reconhecimento da fala\n",
    "def ouvir_mic():\n",
    "    #Habilita o microfone\n",
    "    mic = sr.Recognizer()\n",
    "    \n",
    "    #Criando um arquivo fonte com o audio a ser transcrito\n",
    "    with sr.Microphone() as source:\n",
    "        #Aciona a função de redução de ruído\n",
    "        mic.adjust_for_ambient_noise(source)\n",
    "        #Avisa que está pronto pra ouvir\n",
    "        print(\"Pode falar:\")\n",
    "        #Armazena a informação de audio em uma variável\n",
    "        audio = mic.listen(source)\n",
    "        \n",
    "    try:\n",
    "        #Passa o áudio para o reconhecedor de padroes do speech_recognition\n",
    "        frase = mic.recognize_google(audio,language='pt-BR')\n",
    "        #Após alguns segundos, retorna a frase falada\n",
    "        print(\"Você disse: \" + frase)#Caso nao tenha reconhecido o padrao de fala, exibe esta mensagem\n",
    "    except sr.LookupError:\n",
    "        print(\"Não entendi\")"
   ]
  },
  {
   "cell_type": "markdown",
   "metadata": {},
   "source": [
    "### O código abaixo pega o que é captado no arquivo de aúdio e exporta em um arquivo de texto como resposta."
   ]
  },
  {
   "cell_type": "code",
   "execution_count": 7,
   "metadata": {},
   "outputs": [],
   "source": [
    "#importa a biblioteca de reconhecimento de voz\n",
    "import speech_recognition as sr\n",
    "\n",
    "#Essa função vai ouvir e fazer o reconhecimento da fala\n",
    "def ouvir_mic():\n",
    "    #Habilita o microfone\n",
    "    mic = sr.Recognizer()\n",
    "    \n",
    "    #Criando um arquivo fonte com o audio a ser transcrito\n",
    "    with sr.Microphone() as source:\n",
    "        #Aciona a função de redução de ruído\n",
    "        mic.adjust_for_ambient_noise(source)\n",
    "        #Avisa que está pronto pra ouvir\n",
    "        print(\"Pode falar:\")\n",
    "        #Armazena a informação de audio em uma variável\n",
    "        audio = mic.listen(source)\n",
    "        \n",
    "    try:\n",
    "        #Passa o áudio para o reconhecedor de padroes do speech_recognition\n",
    "        frase = mic.recognize_google(audio,language='pt-BR')\n",
    "        #Após alguns segundos, grava a fala em um arquivo de texto\n",
    "        #Criando o arquivo gravacao.txt\n",
    "        with open('gravacao.txt', mode ='w') as file:\n",
    "            print(\"Escrevendo texto:\")\n",
    "            #Escreve a trancsrição no arquino de texto\n",
    "            file.write(frase)\n",
    "            print(\"Concluído!\")\n",
    "    except sr.LookupError:\n",
    "        print(\"Não entendi\")\n",
    "        \n",
    "        "
   ]
  },
  {
   "cell_type": "code",
   "execution_count": 8,
   "metadata": {},
   "outputs": [
    {
     "name": "stdout",
     "output_type": "stream",
     "text": [
      "Pode falar:\n",
      "Escrevendo texto:\n",
      "Concluído!\n"
     ]
    }
   ],
   "source": [
    "#Acionando a função criada\n",
    "ouvir_mic()"
   ]
  },
  {
   "cell_type": "code",
   "execution_count": null,
   "metadata": {},
   "outputs": [],
   "source": []
  }
 ],
 "metadata": {
  "kernelspec": {
   "display_name": "Python 3",
   "language": "python",
   "name": "python3"
  },
  "language_info": {
   "codemirror_mode": {
    "name": "ipython",
    "version": 3
   },
   "file_extension": ".py",
   "mimetype": "text/x-python",
   "name": "python",
   "nbconvert_exporter": "python",
   "pygments_lexer": "ipython3",
   "version": "3.8.3"
  }
 },
 "nbformat": 4,
 "nbformat_minor": 4
}
