{
 "cells": [
  {
   "cell_type": "markdown",
   "metadata": {},
   "source": [
    "# Utilizando o Speech Recognition para transcrição de aúdio para texto e arquivo MP3"
   ]
  },
  {
   "cell_type": "markdown",
   "metadata": {},
   "source": [
    "## Preparação do ambiente"
   ]
  },
  {
   "cell_type": "markdown",
   "metadata": {},
   "source": [
    "#### Essa sessão foi executado no prompt de comando do windows.\n",
    "\n",
    "Instalando a biblioteca SpeechRecognition (biblioteca de reconhecimento de voz)\n",
    "\n",
    "    pip install SpeechRecognition\n",
    "    \n",
    "Instalando a biblioteca PyAudio (essa biblioteca é utilizada pela SpeechRecognition)\n",
    "\n",
    "Obs: o PyAudio não é suportado pela versão 3.7 do Python. Como a minha versão é a 3.8\n",
    "e eu não queria fazer um downgrade e nem criar uma env para separar o ambiente eu utilizei \n",
    "o \"pipwin\" que instala versões não oficiais para o windows, podendo assim, instalar o PyAudio \n",
    "em uma versão mais atual.\n",
    "\n",
    "    pip install pipwin\n",
    "    pipwin install pyaudio\n",
    "    \n",
    "    \n",
    "Instalação das bilitecas gTTS (interface com a API text-to-speech do Google Translate) e PlaySound (módulo para a execução de arquivos de áudio).\n",
    "\n",
    "    pip install --user gTTS\n",
    "    pip install --user playsound\n",
    "    \n",
    "Necessário para trancrição de MP3 em WAV\n",
    "\n",
    "    pip install pydub\n",
    " "
   ]
  },
  {
   "cell_type": "markdown",
   "metadata": {},
   "source": [
    "### Importação das bibliotecas necessárias"
   ]
  },
  {
   "cell_type": "code",
   "execution_count": null,
   "metadata": {},
   "outputs": [],
   "source": [
    "#Importa as bibliotecas de reconhecimento de voz\n",
    "#Reconhecimento de voz\n",
    "import speech_recognition as sr\n",
    "from gtts import gTTS\n",
    "from playsound import playsound\n",
    "from pydub import AudioSegment"
   ]
  },
  {
   "cell_type": "markdown",
   "metadata": {},
   "source": [
    "### O código abaixo pega o que é captado no microfone e transforma em retorno da função."
   ]
  },
  {
   "cell_type": "code",
   "execution_count": null,
   "metadata": {},
   "outputs": [],
   "source": [
    "#Essa função vai ouvir e fazer o reconhecimento da fala\n",
    "def ouvir():\n",
    "    #Habilita o microfone\n",
    "    mic = sr.Recognizer()\n",
    "    \n",
    "    #Criando um arquivo fonte com o audio a ser transcrito\n",
    "    with sr.Microphone() as source:\n",
    "        #Aciona a função de redução de ruído\n",
    "        mic.adjust_for_ambient_noise(source)\n",
    "        #Avisa que está pronto pra ouvir\n",
    "        print(\"Pode falar:\")\n",
    "        #Armazena a informação de audio em uma variável\n",
    "        audio = mic.listen(source)\n",
    "        print(\"Gravação concluída.\")\n",
    "        \n",
    "    try:\n",
    "        #Passa o áudio para o reconhecedor de padroes do speech_recognition e retorna o resultado.\n",
    "        return mic.recognize_google(audio,language='pt-BR')\n",
    "    except sr.LookupError:\n",
    "        #Caso nao tenha reconhecido o padrao de fala retorna um código de erro.\n",
    "        return \"codErro000\""
   ]
  },
  {
   "cell_type": "markdown",
   "metadata": {},
   "source": [
    "### Aciona a função de ouvir e armazena seu retorno"
   ]
  },
  {
   "cell_type": "code",
   "execution_count": null,
   "metadata": {},
   "outputs": [],
   "source": [
    "frase = ouvir()"
   ]
  },
  {
   "cell_type": "markdown",
   "metadata": {},
   "source": [
    "### Imprimi o retorno na saída padrão"
   ]
  },
  {
   "cell_type": "code",
   "execution_count": null,
   "metadata": {},
   "outputs": [],
   "source": [
    "if (frase != \"codErro000\"):\n",
    "    print(\"Você disse: \" + frase)\n",
    "else:\n",
    "    print(\"Não entendi.\")"
   ]
  },
  {
   "cell_type": "markdown",
   "metadata": {},
   "source": [
    "### Grava o retorno em um arquivo de texto"
   ]
  },
  {
   "cell_type": "code",
   "execution_count": null,
   "metadata": {},
   "outputs": [],
   "source": [
    "if (frase != \"codErro000\"):\n",
    "    #Abre o arquivo gravacao.txt em modo de escrita\n",
    "    with open('gravacao.txt', mode ='w') as file:\n",
    "        print(\"Escrevendo texto:\")\n",
    "        #Escreve a trancsrição no arquivo de texto\n",
    "        file.write(frase)\n",
    "        print(\"Gravação do arquivo concluída!\")\n",
    "else:\n",
    "    print(\"Não entendi.\")"
   ]
  },
  {
   "cell_type": "markdown",
   "metadata": {},
   "source": [
    "### Pega o retorno da gravação e armazena em um arquivo de áudio"
   ]
  },
  {
   "cell_type": "code",
   "execution_count": null,
   "metadata": {},
   "outputs": [],
   "source": [
    "tts = gTTS(frase, lang='pt-br')\n",
    "tts.save('gravacao.mp3')\n",
    "print(\"Arquivo MP3 gravado\")"
   ]
  },
  {
   "cell_type": "markdown",
   "metadata": {},
   "source": [
    "### Executa o arquivo de áudio armazenado"
   ]
  },
  {
   "cell_type": "code",
   "execution_count": null,
   "metadata": {},
   "outputs": [],
   "source": [
    "playsound('gravacao.mp3')\n",
    "print(\"Arquivo executado\")"
   ]
  },
  {
   "cell_type": "markdown",
   "metadata": {},
   "source": [
    "### Converte o arquivo MP3 para WAV"
   ]
  },
  {
   "cell_type": "code",
   "execution_count": null,
   "metadata": {},
   "outputs": [],
   "source": [
    "sound = AudioSegment.from_mp3(\"audio.mp3\")\n",
    "sound.export(\"audio.wav\", format=\"wav\")"
   ]
  },
  {
   "cell_type": "markdown",
   "metadata": {},
   "source": [
    "### Carrega o audio de um arquivo WAV"
   ]
  },
  {
   "cell_type": "code",
   "execution_count": null,
   "metadata": {},
   "outputs": [],
   "source": [
    "def carrega_audio():\n",
    "    r = sr.Recognizer()\n",
    "    #usa o arquivo audio.wav como fonte\n",
    "    with sr.AudioFile(\"audio.wav\") as source:\n",
    "        #extrai áudio do arquivo\n",
    "        print(\"Carregando arquivo de áudio\")\n",
    "        audio = r.record(source)\n",
    "    try:\n",
    "        print(\"Iniciando receonhecimento do áudio\")\n",
    "        #efetua o reconhecimento do áudio carregado\n",
    "        transcricao = r.recognize_google(audio, language='pt-BR')\n",
    "        print(\"Transcrição concluída\")\n",
    "        return transcricao\n",
    "    except sr.LookupError:\n",
    "        #Caso nao tenha reconhecido o padrao de fala retorna um código de erro.\n",
    "        return \"codErro000\""
   ]
  },
  {
   "cell_type": "markdown",
   "metadata": {},
   "source": [
    "### Aciona a função carrega_audio() e aemazena seu retorno"
   ]
  },
  {
   "cell_type": "code",
   "execution_count": null,
   "metadata": {},
   "outputs": [],
   "source": [
    "transcricao = carrega_audio()"
   ]
  },
  {
   "cell_type": "markdown",
   "metadata": {},
   "source": [
    "### Exibe a transcrição na saída padrão"
   ]
  },
  {
   "cell_type": "code",
   "execution_count": null,
   "metadata": {},
   "outputs": [],
   "source": [
    "if (transcricao != \"codErro000\"):\n",
    "    print(\"Transcrição: \" + transcricao)\n",
    "else:\n",
    "    print(\"Não entendi.\")"
   ]
  },
  {
   "cell_type": "markdown",
   "metadata": {},
   "source": [
    "### Grava a transcrição em um arquivo de texto"
   ]
  },
  {
   "cell_type": "code",
   "execution_count": null,
   "metadata": {},
   "outputs": [],
   "source": [
    "if (transcricao != \"codErro000\"):\n",
    "    #Abre o arquivo transcricao.txt em modo de escrita\n",
    "    with open('transcricao.txt', mode ='w') as file:\n",
    "        print(\"Escrevendo texto:\")\n",
    "        #Escreve a trancsrição no arquivo de texto\n",
    "        file.write(transcricao)\n",
    "        print(\"Gravação do arquivo concluída!\")\n",
    "else:\n",
    "    print(\"Não entendi.\")"
   ]
  },
  {
   "cell_type": "code",
   "execution_count": null,
   "metadata": {},
   "outputs": [],
   "source": []
  }
 ],
 "metadata": {
  "kernelspec": {
   "display_name": "Python 3",
   "language": "python",
   "name": "python3"
  },
  "language_info": {
   "codemirror_mode": {
    "name": "ipython",
    "version": 3
   },
   "file_extension": ".py",
   "mimetype": "text/x-python",
   "name": "python",
   "nbconvert_exporter": "python",
   "pygments_lexer": "ipython3",
   "version": "3.8.3"
  }
 },
 "nbformat": 4,
 "nbformat_minor": 4
}
