{
 "cells": [
  {
   "cell_type": "markdown",
   "metadata": {},
   "source": [
    "# Efetuando download do áudio de um vídeo do YouTube e criando um arquivo MP3"
   ]
  },
  {
   "cell_type": "markdown",
   "metadata": {},
   "source": [
    "## Preparação do ambiente"
   ]
  },
  {
   "cell_type": "markdown",
   "metadata": {},
   "source": [
    "#### Essa sessão foi executado no prompt de comando do windows.\n",
    "\n",
    "Instalando a biblioteca youtube_dl (utilizada para downloads de vídeos/audio do youtube)\n",
    "\n",
    "    pip install youtube_dl"
   ]
  },
  {
   "cell_type": "markdown",
   "metadata": {},
   "source": [
    "### Importação das bibliotecas necessárias"
   ]
  },
  {
   "cell_type": "code",
   "execution_count": 1,
   "metadata": {},
   "outputs": [],
   "source": [
    "from __future__ import unicode_literals\n",
    "import youtube_dl"
   ]
  },
  {
   "cell_type": "markdown",
   "metadata": {},
   "source": [
    "### Efetuando o download do áudio do video selecionado em formato MP3"
   ]
  },
  {
   "cell_type": "code",
   "execution_count": 2,
   "metadata": {},
   "outputs": [
    {
     "name": "stdout",
     "output_type": "stream",
     "text": [
      "[youtube] Q1RGKy4yMnI: Downloading webpage\n",
      "[youtube] Q1RGKy4yMnI: Downloading MPD manifest\n",
      "[dashsegments] Total fragments: 8\n",
      "[download] Destination: A Piada mais engraçada do Joãozinho   Videos curtos para Whatsapp   10Youtube com.webm\n",
      "[download] 100% of 1.19MiB in 00:02                      \n",
      "[ffmpeg] Destination: A Piada mais engraçada do Joãozinho   Videos curtos para Whatsapp   10Youtube com.mp3\n",
      "Deleting original file A Piada mais engraçada do Joãozinho   Videos curtos para Whatsapp   10Youtube com.webm (pass -k to keep)\n"
     ]
    }
   ],
   "source": [
    "#Criando configurações do aquivo de saída\n",
    "url = 'https://www.youtube.com/watch?v=Q1RGKy4yMnI'\n",
    "\n",
    "ydl_opts = {'format': 'bestaudio/best',\n",
    "            'outtmpl': '%(title)s.%(ext)s',\n",
    "            'postprocessors': [{'key': 'FFmpegExtractAudio',\n",
    "                                'preferredcodec': 'mp3',\n",
    "                                'preferredquality': '192'}],\n",
    "           }\n",
    "with youtube_dl.YoutubeDL(ydl_opts) as ydl:\n",
    "    ydl.download([url])"
   ]
  },
  {
   "cell_type": "code",
   "execution_count": null,
   "metadata": {},
   "outputs": [],
   "source": []
  }
 ],
 "metadata": {
  "kernelspec": {
   "display_name": "Python 3",
   "language": "python",
   "name": "python3"
  },
  "language_info": {
   "codemirror_mode": {
    "name": "ipython",
    "version": 3
   },
   "file_extension": ".py",
   "mimetype": "text/x-python",
   "name": "python",
   "nbconvert_exporter": "python",
   "pygments_lexer": "ipython3",
   "version": "3.8.3"
  }
 },
 "nbformat": 4,
 "nbformat_minor": 4
}
