{
 "cells": [
  {
   "cell_type": "markdown",
   "metadata": {},
   "source": [
    "# Árvore de Decisão\n",
    "\n",
    "Ao se utilizar sklearn para implementar uma árvore de decisão, apenas chamamos os métodos, mas não implementamos o algorítmo do zero.\n",
    "\n",
    "Tentarei construir esse jupyter notebook focando em discutir a matemática e as estatísticas fundamentais por trás de um modelo de algoritmo de Árvore de Decisão.O objetivo é entender, em um nível mais baixo, como a Árvore de Decisão funciona em segundo plano.\n",
    "\n",
    "A Árvore de Decisão funciona no princípio das condições. O algoritmo verifica as condições, em um nó, e divide os dados, conforme o resultado, da instrução condicional. O algoritmo de árvore de decisão pertence à família de algoritmos de aprendizado de máquina supervisionado. Ele pode ser usado para construir classificações, bem como modelos de regressão.\n",
    "\n",
    "### Termos essenciais\n",
    "\n",
    "**Entropia** - A entropia de um conjunto de dados, é uma medida da impureza do conjunto de dados. A entropia também pode ser considerada, como uma medida de incerteza. Devemos tentar minimizar, a entropia. O objetivo dos modelos de aprendizado de  máquina é reduzir a incerteza ou a entropia, tanto quanto possível.\n",
    "\n",
    "**Ganho de informação** - o ganho de informação, é uma medida de quanta informação, uma característica nos dá sobre as aulas. O algoritmo de Árvores de Decisão sempre tentará maximizar o ganho de informação. Recurso, que particiona perfeitamente os dados, deve fornecer o máximo de informações. Um recurso, com o maior ganho de informação, será usado para dividir primeiro.\n",
    "\n",
    "## Implementação"
   ]
  },
  {
   "cell_type": "code",
   "execution_count": 1,
   "metadata": {},
   "outputs": [],
   "source": [
    "#Importação das bibliotecas\n",
    "import pandas as pd\n",
    "import numpy as np"
   ]
  },
  {
   "cell_type": "code",
   "execution_count": 2,
   "metadata": {},
   "outputs": [
    {
     "data": {
      "text/html": [
       "<div>\n",
       "<style scoped>\n",
       "    .dataframe tbody tr th:only-of-type {\n",
       "        vertical-align: middle;\n",
       "    }\n",
       "\n",
       "    .dataframe tbody tr th {\n",
       "        vertical-align: top;\n",
       "    }\n",
       "\n",
       "    .dataframe thead th {\n",
       "        text-align: right;\n",
       "    }\n",
       "</style>\n",
       "<table border=\"1\" class=\"dataframe\">\n",
       "  <thead>\n",
       "    <tr style=\"text-align: right;\">\n",
       "      <th></th>\n",
       "      <th>Glucose</th>\n",
       "      <th>BloodPressure</th>\n",
       "      <th>Diabetes</th>\n",
       "    </tr>\n",
       "  </thead>\n",
       "  <tbody>\n",
       "    <tr>\n",
       "      <th>0</th>\n",
       "      <td>86</td>\n",
       "      <td>104</td>\n",
       "      <td>1</td>\n",
       "    </tr>\n",
       "    <tr>\n",
       "      <th>1</th>\n",
       "      <td>78</td>\n",
       "      <td>111</td>\n",
       "      <td>0</td>\n",
       "    </tr>\n",
       "    <tr>\n",
       "      <th>2</th>\n",
       "      <td>79</td>\n",
       "      <td>114</td>\n",
       "      <td>0</td>\n",
       "    </tr>\n",
       "    <tr>\n",
       "      <th>3</th>\n",
       "      <td>77</td>\n",
       "      <td>105</td>\n",
       "      <td>0</td>\n",
       "    </tr>\n",
       "    <tr>\n",
       "      <th>4</th>\n",
       "      <td>90</td>\n",
       "      <td>100</td>\n",
       "      <td>1</td>\n",
       "    </tr>\n",
       "  </tbody>\n",
       "</table>\n",
       "</div>"
      ],
      "text/plain": [
       "   Glucose  BloodPressure  Diabetes\n",
       "0       86            104         1\n",
       "1       78            111         0\n",
       "2       79            114         0\n",
       "3       77            105         0\n",
       "4       90            100         1"
      ]
     },
     "execution_count": 2,
     "metadata": {},
     "output_type": "execute_result"
    }
   ],
   "source": [
    "#Utilizando pandas para carregar um conjunto de dados em um dataframe\n",
    "df = pd.read_csv('data-dt.csv')\n",
    "df.head()"
   ]
  },
  {
   "cell_type": "code",
   "execution_count": 3,
   "metadata": {},
   "outputs": [],
   "source": [
    "#Definição da função de cálculo de entropia\n",
    "def calculate_entropy(df_label):\n",
    "    classes,class_counts = np.unique(df_label,return_counts = True)\n",
    "    entropy_value = np.sum([(-class_counts[i]/np.sum(class_counts))*np.log2(class_counts[i]/np.sum(class_counts)) \n",
    "                        for i in range(len(classes))])\n",
    "    return entropy_value"
   ]
  },
  {
   "cell_type": "markdown",
   "metadata": {},
   "source": [
    "**Cálculo de ganho de informação**: esta função está usando três parâmetros, dataset, feature e label. Primeiro calculamos a entropia do conjunto de dados. Então, calculamos a entropia do recurso ponderado. Observe que, estamos chamando, a função *calculate_entropy*, de dentro desta função. No final desta função, somos capazes de calcular *feature_information_gain* (característica do ganho de informação), que é igual a *dataset_entropy* (entropia do dataset) menos *weighted_feature_entropy* (entropia do recurso ponderado)."
   ]
  },
  {
   "cell_type": "code",
   "execution_count": 4,
   "metadata": {},
   "outputs": [],
   "source": [
    "#Definição da função de cálculo do ganho da informação\n",
    "def calculate_information_gain(dataset, feature, label):\n",
    "    #Calcula a entropia do dataset\n",
    "    dataset_entropy = calculate_entropy(dataset[label])\n",
    "    values, feat_counts = np.unique(dataset[feature], return_counts = True)\n",
    "    \n",
    "    #Cálculo da entropia do recurso ponderado                               #Chamada da função calculate_entropy\n",
    "    weighted_feature_entropy = np.sum([(feat_counts[i]/np.sum(feat_counts))*calculate_entropy(dataset.where(dataset[feature]\n",
    "                               ==values[i]).dropna()[label]) for i in range(len(values))])\n",
    "    feature_info_gain = dataset_entropy - weighted_feature_entropy\n",
    "    return feature_info_gain"
   ]
  },
  {
   "cell_type": "markdown",
   "metadata": {},
   "source": [
    "**Função de criação de árvore de decisão**: Uma árvore de decisão, recursivamente, divide o conjunto de treinamento em subconjuntos cada vez menores. As árvores de decisão são treinadas, passando os dados de um nó raiz para as folhas. Os dados são divididos repetidamente, de acordo com as variáveis de recurso, para que os nós filhos sejam mais puros. Isso ajuda a reduzir a entropia. Um nó puro significa que todas as amostras nesse nó têm o mesmo rótulo."
   ]
  },
  {
   "cell_type": "code",
   "execution_count": 5,
   "metadata": {},
   "outputs": [],
   "source": [
    "#Definição da função de criação da árvore de decisão\n",
    "def create_decision_tree(dataset, df, features, label, parent):\n",
    "    datum = np.unique(df[label], return_counts=True)\n",
    "    unique_data = np.unique(dataset[label])\n",
    "    \n",
    "    if len(unique_data) <= 1:\n",
    "        return unique_data[0]\n",
    "    \n",
    "    elif len(dataset) == 0 :\n",
    "        return unique_data[np.argmax(datum[1])]\n",
    "    \n",
    "    elif len(features) == 0:\n",
    "        return parent\n",
    "    \n",
    "    else:\n",
    "        parent = unique_data[np.argmax(datum[1])]\n",
    "        \n",
    "        #Chama a função calculate_information_gain\n",
    "        item_values = [calculate_information_gain(dataset, feature, label) for feature in features]\n",
    "        \n",
    "        optimum_feature_index = np.argmax(item_values)\n",
    "        optimum_feature = features[optimum_feature_index]\n",
    "        decision_tree = {optimum_feature:{}}\n",
    "        features = [i for i in features if i != optimum_feature]\n",
    "        \n",
    "        for value in np.unique(dataset[optimum_feature]):\n",
    "            min_data = dataset.where(dataset[optimum_feature] == value).dropna()\n",
    "            \n",
    "            #Chamada recursiva para a função create_decision_tree\n",
    "            min_tree = create_decision_tree(min_data, df, features, label, parent)\n",
    "            \n",
    "            decision_tree[optimum_feature][value] = min_tree\n",
    "            \n",
    "        return(decision_tree)"
   ]
  },
  {
   "cell_type": "code",
   "execution_count": 6,
   "metadata": {},
   "outputs": [],
   "source": [
    "#Definição da função de predição do tipo de diabetes\n",
    "def predict_diabetes(test_data, decision_tree):\n",
    "    for nodes in decision_tree.keys():\n",
    "        value = test_data[nodes]\n",
    "        decision_tree = decision_tree[nodes][value]\n",
    "        \n",
    "        prediction = 0\n",
    "        if type(decision_tree) is dict:\n",
    "            #Chamada recursiva para a função predict_diabetes\n",
    "            prediction = predict_diabetes(test_data, decision_tree)\n",
    "        else:\n",
    "            prediction = decision_tree\n",
    "            break;\n",
    "            \n",
    "    return prediction"
   ]
  },
  {
   "cell_type": "code",
   "execution_count": 9,
   "metadata": {},
   "outputs": [
    {
     "data": {
      "text/plain": [
       "Index(['Glucose', 'BloodPressure'], dtype='object')"
      ]
     },
     "execution_count": 9,
     "metadata": {},
     "output_type": "execute_result"
    }
   ],
   "source": [
    "# Define os recursos e o rótulo\n",
    "features = df.columns[:-1]\n",
    "label = 'Diabetes'\n",
    "parent=None\n",
    "features"
   ]
  },
  {
   "cell_type": "code",
   "execution_count": 10,
   "metadata": {},
   "outputs": [],
   "source": [
    "#Treina o modelo da árvore de decisão\n",
    "decision_tree = create_decision_tree(df, df, features, label, parent)"
   ]
  },
  {
   "cell_type": "code",
   "execution_count": 11,
   "metadata": {},
   "outputs": [
    {
     "data": {
      "text/plain": [
       "1.0"
      ]
     },
     "execution_count": 11,
     "metadata": {},
     "output_type": "execute_result"
    }
   ],
   "source": [
    "#Efetua a predição utilizando o modelo treinado\n",
    "sample_data = {'Glucose':86,'BloodPressure':104}\n",
    "test_data = pd.Series(sample_data)\n",
    "prediction = predict_diabetes(test_data,decision_tree)\n",
    "prediction"
   ]
  },
  {
   "cell_type": "code",
   "execution_count": null,
   "metadata": {},
   "outputs": [],
   "source": []
  }
 ],
 "metadata": {
  "kernelspec": {
   "display_name": "Python 3",
   "language": "python",
   "name": "python3"
  },
  "language_info": {
   "codemirror_mode": {
    "name": "ipython",
    "version": 3
   },
   "file_extension": ".py",
   "mimetype": "text/x-python",
   "name": "python",
   "nbconvert_exporter": "python",
   "pygments_lexer": "ipython3",
   "version": "3.8.3"
  }
 },
 "nbformat": 4,
 "nbformat_minor": 4
}
