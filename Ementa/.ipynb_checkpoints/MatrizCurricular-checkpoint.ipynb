{
 "cells": [
  {
   "cell_type": "markdown",
   "metadata": {},
   "source": [
    "# Lendo e atualizando Google Spreadsheets com Python"
   ]
  },
  {
   "cell_type": "markdown",
   "metadata": {},
   "source": [
    "## Pré-requistos\n",
    "\n",
    "Configuração do projeto Google Cloud no link abaixo:\n",
    "\n",
    "    https://console.developers.google.com/cloud-resource-manager\n",
    "    \n",
    "As seguintes tarefas devem ser executadas:\n",
    "    \n",
    "    - Criação do projeto\n",
    "    - Ativação das API's Google Sheets API e Google Drive API\n",
    "    - Criação das credenciais de acesso\n",
    "    - Compartilhar o arquivo a ser gerenciado com o email listado na sessão \"client_email\" do arquivo de credencial\n",
    "    \n",
    "Instalação das bibliotecas do Python:\n",
    "    \n",
    "    pip install gspread\n",
    "    pip install oauth2client\n",
    "\n",
    "Para maiores informações, pesquisar a documentação abaixo no link abaixo:\n",
    "\n",
    "    https://gspread.readthedocs.io/en/latest/"
   ]
  },
  {
   "cell_type": "markdown",
   "metadata": {},
   "source": [
    "## Iniciando a codificação"
   ]
  },
  {
   "cell_type": "code",
   "execution_count": 2,
   "metadata": {},
   "outputs": [],
   "source": [
    "#Importação das bibliotecas\n",
    "import gspread\n",
    "from oauth2client.service_account import ServiceAccountCredentials\n",
    "\n",
    "#Definição do escopo de trabalho, nesse caso, as duas API's que foram habilitadas no projeto do Google Cloud\n",
    "scope = ['https://spreadsheets.google.com/feeds', 'https://www.googleapis.com/auth/drive']\n",
    "\n",
    "#Veriável de controle das credenciais\n",
    "credentials = ServiceAccountCredentials.from_json_keyfile_name('matrizcurricularAtual.json', scope)\n",
    "\n",
    "#Verifica autorização\n",
    "gc = gspread.authorize(credentials)\n",
    "\n",
    "#Acessa a planilha criada atrvés da sua chave\n",
    "wks = gc.open_by_key('1pGQAPsFnCrAzwBQq4rqI9LehgwmZ-lhYIgaFZgNfMaE')\n",
    "\n",
    "#Acessa a primeira área de trabalho da planilha escolhida\n",
    "worksheet = wks.get_worksheet(0)"
   ]
  },
  {
   "cell_type": "markdown",
   "metadata": {},
   "source": [
    "## Exibindo os dados da planilha"
   ]
  },
  {
   "cell_type": "code",
   "execution_count": 4,
   "metadata": {},
   "outputs": [
    {
     "data": {
      "text/plain": [
       "[{'Semestre': 1,\n",
       "  'Código': 11001062,\n",
       "  'Nome': 'Algoritmos e Programação I',\n",
       "  'Carga Horária': 60,\n",
       "  'Pré-requisito': '-'},\n",
       " {'Semestre': 1,\n",
       "  'Código': 11001063,\n",
       "  'Nome': 'Arquitetura e Organização de Computadores I',\n",
       "  'Carga Horária': 60,\n",
       "  'Pré-requisito': '-'},\n",
       " {'Semestre': 1,\n",
       "  'Código': 11001064,\n",
       "  'Nome': 'Desenvolvimento Front-end',\n",
       "  'Carga Horária': 60,\n",
       "  'Pré-requisito': '-'},\n",
       " {'Semestre': 1,\n",
       "  'Código': 11001065,\n",
       "  'Nome': 'Inglês Instrumental',\n",
       "  'Carga Horária': 60,\n",
       "  'Pré-requisito': '-'},\n",
       " {'Semestre': 1,\n",
       "  'Código': 11001066,\n",
       "  'Nome': 'Leitura e Prática de Produção Textual',\n",
       "  'Carga Horária': 60,\n",
       "  'Pré-requisito': '-'}]"
      ]
     },
     "execution_count": 4,
     "metadata": {},
     "output_type": "execute_result"
    }
   ],
   "source": [
    "#A função get_all_records() retorna uma lista de dicionários\n",
    "worksheet.get_all_records()"
   ]
  },
  {
   "cell_type": "markdown",
   "metadata": {},
   "source": [
    "## Adicionando uma linha à tabela"
   ]
  },
  {
   "cell_type": "code",
   "execution_count": 5,
   "metadata": {},
   "outputs": [
    {
     "ename": "TypeError",
     "evalue": "append_row() takes from 2 to 5 positional arguments but 6 were given",
     "output_type": "error",
     "traceback": [
      "\u001b[1;31m---------------------------------------------------------------------------\u001b[0m",
      "\u001b[1;31mTypeError\u001b[0m                                 Traceback (most recent call last)",
      "\u001b[1;32m<ipython-input-5-7be55a53368a>\u001b[0m in \u001b[0;36m<module>\u001b[1;34m\u001b[0m\n\u001b[1;32m----> 1\u001b[1;33m \u001b[0mworksheet\u001b[0m\u001b[1;33m.\u001b[0m\u001b[0mappend_row\u001b[0m\u001b[1;33m(\u001b[0m\u001b[1;34m'2'\u001b[0m\u001b[1;33m,\u001b[0m\u001b[1;34m'011001067'\u001b[0m\u001b[1;33m,\u001b[0m\u001b[1;34m'Pré-Cálculo'\u001b[0m\u001b[1;33m,\u001b[0m\u001b[1;34m'60'\u001b[0m\u001b[1;33m,\u001b[0m\u001b[1;34m'-'\u001b[0m\u001b[1;33m)\u001b[0m\u001b[1;33m\u001b[0m\u001b[1;33m\u001b[0m\u001b[0m\n\u001b[0m",
      "\u001b[1;31mTypeError\u001b[0m: append_row() takes from 2 to 5 positional arguments but 6 were given"
     ]
    }
   ],
   "source": [
    "worksheet.append_row(['2','011001067','Pré-Cálculo','60','-'])"
   ]
  },
  {
   "cell_type": "code",
   "execution_count": null,
   "metadata": {},
   "outputs": [],
   "source": []
  }
 ],
 "metadata": {
  "kernelspec": {
   "display_name": "Python 3",
   "language": "python",
   "name": "python3"
  },
  "language_info": {
   "codemirror_mode": {
    "name": "ipython",
    "version": 3
   },
   "file_extension": ".py",
   "mimetype": "text/x-python",
   "name": "python",
   "nbconvert_exporter": "python",
   "pygments_lexer": "ipython3",
   "version": "3.8.3"
  }
 },
 "nbformat": 4,
 "nbformat_minor": 4
}
