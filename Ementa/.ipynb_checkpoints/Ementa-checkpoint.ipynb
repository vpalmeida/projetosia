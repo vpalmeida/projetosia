{
 "cells": [
  {
   "cell_type": "markdown",
   "metadata": {},
   "source": [
    "### Efetuando conexão com a planilha"
   ]
  },
  {
   "cell_type": "code",
   "execution_count": 1,
   "metadata": {},
   "outputs": [],
   "source": [
    "#Conexão com a planilha no Google Docs\n",
    "import gspread\n",
    "from oauth2client.service_account import ServiceAccountCredentials\n",
    "\n",
    "scope = ['https://spreadsheets.google.com/feeds', 'https://www.googleapis.com/auth/drive']\n",
    "credentials = ServiceAccountCredentials.from_json_keyfile_name('matrizcurricularAtual.json', scope)\n",
    "gc = gspread.authorize(credentials)\n",
    "wks = gc.open_by_key('15B8zH8Bntuhg8k3eNmHm-IwCp0Zr77Yu5fAgrsRGAyg')\n",
    "worksheet = wks.get_worksheet(0)"
   ]
  },
  {
   "cell_type": "code",
   "execution_count": 2,
   "metadata": {},
   "outputs": [
    {
     "data": {
      "text/plain": [
       "[['Semestre', 'Código', 'Nome', 'Ementa'],\n",
       " ['6',\n",
       "  '011001099',\n",
       "  'Inteligência Artificial',\n",
       "  'Introdução à inteligência artificial: histórico, conceitos básicos, áreas de aplicação, tendências. Representação do conhecimento. Métodos de resolução de problemas. Técnicas de busca: com e sem informação (heurística e meta-heurística–Algoritmos Genéticos). Aprendizado de Máquina, Deep Learning, Redes Neurais, Séries Temporais, Lógica Fuzzy, Algoritmo Genético, Support Vector Machines. Aplicações']]"
      ]
     },
     "execution_count": 2,
     "metadata": {},
     "output_type": "execute_result"
    }
   ],
   "source": [
    "#Exibindo todos os valores da planilha\n",
    "worksheet.get_all_values()"
   ]
  },
  {
   "cell_type": "code",
   "execution_count": 3,
   "metadata": {},
   "outputs": [
    {
     "name": "stdout",
     "output_type": "stream",
     "text": [
      "A disciplina de Inteligência Artificial está na linha 2.\n"
     ]
    }
   ],
   "source": [
    "#Buscando a linha da disciplina\n",
    "cellDisciplinas = worksheet.find(\"Inteligência Artificial\")\n",
    "\n",
    "print(\"A disciplina de Inteligência Artificial está na linha %s.\" % (cellDisciplinas.row))"
   ]
  },
  {
   "cell_type": "code",
   "execution_count": 4,
   "metadata": {},
   "outputs": [
    {
     "name": "stdout",
     "output_type": "stream",
     "text": [
      "As ementas estão na coluna 4.\n"
     ]
    }
   ],
   "source": [
    "#Buscando a coluna das ementas\n",
    "cellEmentas = worksheet.find(\"Ementa\")\n",
    "\n",
    "print(\"As ementas estão na coluna %s.\" % (cellEmentas.col))"
   ]
  },
  {
   "cell_type": "code",
   "execution_count": 5,
   "metadata": {},
   "outputs": [],
   "source": [
    "#Buscando a ementa da disciplina de Inteligência Artificial\n",
    "ementaIA = worksheet.cell(cellDisciplinas.row, cellEmentas.col).value"
   ]
  },
  {
   "cell_type": "code",
   "execution_count": 6,
   "metadata": {},
   "outputs": [
    {
     "data": {
      "text/plain": [
       "'Introdução à inteligência artificial: histórico, conceitos básicos, áreas de aplicação, tendências. Representação do conhecimento. Métodos de resolução de problemas. Técnicas de busca: com e sem informação (heurística e meta-heurística–Algoritmos Genéticos). Aprendizado de Máquina, Deep Learning, Redes Neurais, Séries Temporais, Lógica Fuzzy, Algoritmo Genético, Support Vector Machines. Aplicações'"
      ]
     },
     "execution_count": 6,
     "metadata": {},
     "output_type": "execute_result"
    }
   ],
   "source": [
    "#Exibindo ementa de disciplina de Inteligência Artificial\n",
    "ementaIA"
   ]
  },
  {
   "cell_type": "markdown",
   "metadata": {},
   "source": [
    "### Iniciando trabalho com o corpo da ementa"
   ]
  },
  {
   "cell_type": "code",
   "execution_count": 7,
   "metadata": {},
   "outputs": [],
   "source": [
    "from nltk.tokenize import sent_tokenize, word_tokenize\n",
    "from nltk.corpus import stopwords\n",
    "from string import punctuation\n",
    "\n",
    "#Configurando as stopwords para eliminar tambem a pontuação\n",
    "stopwords = set(stopwords.words('portuguese') + list(punctuation))"
   ]
  },
  {
   "cell_type": "code",
   "execution_count": 22,
   "metadata": {},
   "outputs": [],
   "source": [
    "#Separando o texto da ementa em períodos e palavras\n",
    "sentencasEmenta = sent_tokenize(ementaIA)\n",
    "palavrasEmenta = word_tokenize(ementaIA)"
   ]
  },
  {
   "cell_type": "code",
   "execution_count": 23,
   "metadata": {},
   "outputs": [
    {
     "data": {
      "text/plain": [
       "['Introdução à inteligência artificial: histórico, conceitos básicos, áreas de aplicação, tendências.',\n",
       " 'Representação do conhecimento.',\n",
       " 'Métodos de resolução de problemas.',\n",
       " 'Técnicas de busca: com e sem informação (heurística e meta-heurística–Algoritmos Genéticos).',\n",
       " 'Aprendizado de Máquina, Deep Learning, Redes Neurais, Séries Temporais, Lógica Fuzzy, Algoritmo Genético, Support Vector Machines.',\n",
       " 'Aplicações']"
      ]
     },
     "execution_count": 23,
     "metadata": {},
     "output_type": "execute_result"
    }
   ],
   "source": [
    "#Períodos/Sentenças da ementa\n",
    "sentencasEmenta"
   ]
  },
  {
   "cell_type": "code",
   "execution_count": 10,
   "metadata": {},
   "outputs": [
    {
     "data": {
      "text/plain": [
       "['Introdução',\n",
       " 'à',\n",
       " 'inteligência',\n",
       " 'artificial',\n",
       " ':',\n",
       " 'histórico',\n",
       " ',',\n",
       " 'conceitos',\n",
       " 'básicos',\n",
       " ',',\n",
       " 'áreas',\n",
       " 'de',\n",
       " 'aplicação',\n",
       " ',',\n",
       " 'tendências',\n",
       " '.',\n",
       " 'Representação',\n",
       " 'do',\n",
       " 'conhecimento',\n",
       " '.',\n",
       " 'Métodos',\n",
       " 'de',\n",
       " 'resolução',\n",
       " 'de',\n",
       " 'problemas',\n",
       " '.',\n",
       " 'Técnicas',\n",
       " 'de',\n",
       " 'busca',\n",
       " ':',\n",
       " 'com',\n",
       " 'e',\n",
       " 'sem',\n",
       " 'informação',\n",
       " '(',\n",
       " 'heurística',\n",
       " 'e',\n",
       " 'meta-heurística–Algoritmos',\n",
       " 'Genéticos',\n",
       " ')',\n",
       " '.',\n",
       " 'Aprendizado',\n",
       " 'de',\n",
       " 'Máquina',\n",
       " ',',\n",
       " 'Deep',\n",
       " 'Learning',\n",
       " ',',\n",
       " 'Redes',\n",
       " 'Neurais',\n",
       " ',',\n",
       " 'Séries',\n",
       " 'Temporais',\n",
       " ',',\n",
       " 'Lógica',\n",
       " 'Fuzzy',\n",
       " ',',\n",
       " 'Algoritmo',\n",
       " 'Genético',\n",
       " ',',\n",
       " 'Support',\n",
       " 'Vector',\n",
       " 'Machines',\n",
       " '.',\n",
       " 'Aplicações']"
      ]
     },
     "execution_count": 10,
     "metadata": {},
     "output_type": "execute_result"
    }
   ],
   "source": [
    "#Palavras da ementa\n",
    "palavrasEmenta"
   ]
  },
  {
   "cell_type": "code",
   "execution_count": 12,
   "metadata": {},
   "outputs": [
    {
     "data": {
      "text/plain": [
       "['Introdução',\n",
       " 'inteligência',\n",
       " 'artificial',\n",
       " 'histórico',\n",
       " 'conceitos',\n",
       " 'básicos',\n",
       " 'áreas',\n",
       " 'aplicação',\n",
       " 'tendências',\n",
       " 'Representação',\n",
       " 'conhecimento',\n",
       " 'Métodos',\n",
       " 'resolução',\n",
       " 'problemas',\n",
       " 'Técnicas',\n",
       " 'busca',\n",
       " 'informação',\n",
       " 'heurística',\n",
       " 'meta-heurística–Algoritmos',\n",
       " 'Genéticos',\n",
       " 'Aprendizado',\n",
       " 'Máquina',\n",
       " 'Deep',\n",
       " 'Learning',\n",
       " 'Redes',\n",
       " 'Neurais',\n",
       " 'Séries',\n",
       " 'Temporais',\n",
       " 'Lógica',\n",
       " 'Fuzzy',\n",
       " 'Algoritmo',\n",
       " 'Genético',\n",
       " 'Support',\n",
       " 'Vector',\n",
       " 'Machines',\n",
       " 'Aplicações']"
      ]
     },
     "execution_count": 12,
     "metadata": {},
     "output_type": "execute_result"
    }
   ],
   "source": [
    "#Removendo as stopwords das palavras da ementa\n",
    "palavrasEmenta_without_sw = [palavra for palavra in palavrasEmenta if palavra not in stopwords]\n",
    "\n",
    "palavrasEmenta_without_sw"
   ]
  },
  {
   "cell_type": "code",
   "execution_count": 16,
   "metadata": {},
   "outputs": [
    {
     "data": {
      "text/plain": [
       "list"
      ]
     },
     "execution_count": 16,
     "metadata": {},
     "output_type": "execute_result"
    }
   ],
   "source": [
    "type(sentencasEmenta)"
   ]
  },
  {
   "cell_type": "code",
   "execution_count": 24,
   "metadata": {},
   "outputs": [
    {
     "ename": "AttributeError",
     "evalue": "'str' object has no attribute 'value'",
     "output_type": "error",
     "traceback": [
      "\u001b[1;31m---------------------------------------------------------------------------\u001b[0m",
      "\u001b[1;31mAttributeError\u001b[0m                            Traceback (most recent call last)",
      "\u001b[1;32m<ipython-input-24-a59b5a8dcaad>\u001b[0m in \u001b[0;36m<module>\u001b[1;34m\u001b[0m\n\u001b[0;32m      4\u001b[0m \u001b[1;31m#Vai percorrer todas assentenças da ementa, eliminando as stopwords\u001b[0m\u001b[1;33m\u001b[0m\u001b[1;33m\u001b[0m\u001b[1;33m\u001b[0m\u001b[0m\n\u001b[0;32m      5\u001b[0m \u001b[1;32mfor\u001b[0m \u001b[0mindex\u001b[0m\u001b[1;33m,\u001b[0m \u001b[0mval\u001b[0m \u001b[1;32min\u001b[0m \u001b[0menumerate\u001b[0m\u001b[1;33m(\u001b[0m\u001b[0msentencasEmenta\u001b[0m\u001b[1;33m)\u001b[0m\u001b[1;33m:\u001b[0m\u001b[1;33m\u001b[0m\u001b[1;33m\u001b[0m\u001b[0m\n\u001b[1;32m----> 6\u001b[1;33m     \u001b[0msentenca\u001b[0m \u001b[1;33m=\u001b[0m \u001b[0msentencasEmenta\u001b[0m\u001b[1;33m[\u001b[0m\u001b[0mindex\u001b[0m\u001b[1;33m]\u001b[0m\u001b[1;33m.\u001b[0m\u001b[0mvalue\u001b[0m\u001b[1;33m\u001b[0m\u001b[1;33m\u001b[0m\u001b[0m\n\u001b[0m\u001b[0;32m      7\u001b[0m     \u001b[1;31m#Tokeniza as sentenças\u001b[0m\u001b[1;33m\u001b[0m\u001b[1;33m\u001b[0m\u001b[1;33m\u001b[0m\u001b[0m\n\u001b[0;32m      8\u001b[0m     \u001b[0mtokens\u001b[0m \u001b[1;33m=\u001b[0m \u001b[0mword_tokenize\u001b[0m\u001b[1;33m(\u001b[0m\u001b[0msentenca\u001b[0m\u001b[1;33m)\u001b[0m\u001b[1;33m\u001b[0m\u001b[1;33m\u001b[0m\u001b[0m\n",
      "\u001b[1;31mAttributeError\u001b[0m: 'str' object has no attribute 'value'"
     ]
    }
   ],
   "source": [
    "#Removendo as stopwords das sentenças\n",
    "sentencasEmenta_without_sw = []\n",
    "\n",
    "#Vai percorrer todas assentenças da ementa, eliminando as stopwords\n",
    "for index, val in enumerate(sentencasEmenta):\n",
    "    sentenca = sentencasEmenta[index]\n",
    "    #Tokeniza as sentenças\n",
    "    tokens = word_tokenize(sentenca)\n",
    "    #Remove as stopwords\n",
    "    tokens_without_sw = [word for word in tokens if not word in stopwords]\n",
    "    #Substitui a string original por uma lista de palavras relevantes\n",
    "    sentencasEmenta_without_sw[index] = tokens_without_sw\n",
    "\n",
    "print(sentencasEmenta_without_sw)"
   ]
  },
  {
   "cell_type": "code",
   "execution_count": 20,
   "metadata": {},
   "outputs": [
    {
     "data": {
      "text/plain": [
       "list"
      ]
     },
     "execution_count": 20,
     "metadata": {},
     "output_type": "execute_result"
    }
   ],
   "source": [
    "type(tokens_without_sw)"
   ]
  },
  {
   "cell_type": "code",
   "execution_count": 21,
   "metadata": {},
   "outputs": [
    {
     "data": {
      "text/plain": [
       "[['Introdução',\n",
       "  'inteligência',\n",
       "  'artificial',\n",
       "  'histórico',\n",
       "  'conceitos',\n",
       "  'básicos',\n",
       "  'áreas',\n",
       "  'aplicação',\n",
       "  'tendências'],\n",
       " ['Representação', 'conhecimento'],\n",
       " ['Métodos', 'resolução', 'problemas'],\n",
       " ['Técnicas',\n",
       "  'busca',\n",
       "  'informação',\n",
       "  'heurística',\n",
       "  'meta-heurística–Algoritmos',\n",
       "  'Genéticos'],\n",
       " ['Aprendizado',\n",
       "  'Máquina',\n",
       "  'Deep',\n",
       "  'Learning',\n",
       "  'Redes',\n",
       "  'Neurais',\n",
       "  'Séries',\n",
       "  'Temporais',\n",
       "  'Lógica',\n",
       "  'Fuzzy',\n",
       "  'Algoritmo',\n",
       "  'Genético',\n",
       "  'Support',\n",
       "  'Vector',\n",
       "  'Machines'],\n",
       " ['Aplicações']]"
      ]
     },
     "execution_count": 21,
     "metadata": {},
     "output_type": "execute_result"
    }
   ],
   "source": [
    "sentencasEmenta"
   ]
  },
  {
   "cell_type": "markdown",
   "metadata": {},
   "source": [
    "### Efetuando uma raspagem em um site de internet"
   ]
  },
  {
   "cell_type": "code",
   "execution_count": null,
   "metadata": {},
   "outputs": [],
   "source": [
    "from urllib.request import Request, urlopen\n",
    "from bs4 import BeautifulSoup"
   ]
  },
  {
   "cell_type": "code",
   "execution_count": null,
   "metadata": {},
   "outputs": [],
   "source": [
    "#Escolhendo uma página para efetuar a leitura da informação\n",
    "link = Request('http://ultimosegundo.ig.com.br/politica/2017-04-25/reforma-da-previdencia.html',\n",
    "               headers={'User-Agent': 'Mozilla/5.0'})\n",
    "\n",
    "pagina = urlopen(link).read().decode('utf-8', 'ignore')"
   ]
  },
  {
   "cell_type": "code",
   "execution_count": null,
   "metadata": {},
   "outputs": [],
   "source": [
    "#Utilizando o BeautifulSoap\n",
    "#Nessa etapa é importante saber que o código depende da estrutura da página que estamos garimpando.\n",
    "soup = BeautifulSoup(pagina, \"lxml\")\n",
    "texto = soup.find(id=\"noticia\").text\n",
    "\n",
    "texto"
   ]
  },
  {
   "cell_type": "code",
   "execution_count": null,
   "metadata": {},
   "outputs": [],
   "source": [
    "#Separando nosso texto em sentenças e palavras\n",
    "sentencas = sent_tokenize(texto)\n",
    "palavras = word_tokenize(texto.lower())"
   ]
  },
  {
   "cell_type": "code",
   "execution_count": null,
   "metadata": {},
   "outputs": [],
   "source": [
    "#Sentenças do texto\n",
    "sentencas"
   ]
  },
  {
   "cell_type": "code",
   "execution_count": null,
   "metadata": {},
   "outputs": [],
   "source": [
    "#Palavras do texto\n",
    "palavras"
   ]
  },
  {
   "cell_type": "code",
   "execution_count": null,
   "metadata": {},
   "outputs": [],
   "source": [
    "#Removendo as stopwords\n",
    "palavras_sem_stopwords = [palavra for palavra in palavras if palavra not in stopwords]\n",
    "\n",
    "palavras_sem_stopwords"
   ]
  },
  {
   "cell_type": "code",
   "execution_count": null,
   "metadata": {},
   "outputs": [],
   "source": []
  }
 ],
 "metadata": {
  "kernelspec": {
   "display_name": "Python 3",
   "language": "python",
   "name": "python3"
  },
  "language_info": {
   "codemirror_mode": {
    "name": "ipython",
    "version": 3
   },
   "file_extension": ".py",
   "mimetype": "text/x-python",
   "name": "python",
   "nbconvert_exporter": "python",
   "pygments_lexer": "ipython3",
   "version": "3.8.3"
  }
 },
 "nbformat": 4,
 "nbformat_minor": 4
}
