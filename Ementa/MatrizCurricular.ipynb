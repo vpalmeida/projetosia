{
 "cells": [
  {
   "cell_type": "markdown",
   "metadata": {},
   "source": [
    "# Lendo e atualizando Google Spreadsheets com Python"
   ]
  },
  {
   "cell_type": "markdown",
   "metadata": {},
   "source": [
    "## Pré-requistos\n",
    "\n",
    "Configuração do projeto Google Cloud no link abaixo:\n",
    "\n",
    "    https://console.developers.google.com/cloud-resource-manager\n",
    "    \n",
    "As seguintes tarefas devem ser executadas:\n",
    "    \n",
    "    - Criação do projeto\n",
    "    - Ativação das API's Google Sheets API e Google Drive API\n",
    "    - Criação das credenciais de acesso\n",
    "    - Compartilhar o arquivo a ser gerenciado com o email listado na sessão \"client_email\" do arquivo de credencial\n",
    "    \n",
    "Instalação das bibliotecas do Python:\n",
    "    \n",
    "    pip install gspread\n",
    "    pip install oauth2client\n",
    "\n",
    "Para maiores informações, pesquisar a documentação abaixo nos links abaixo:\n",
    "\n",
    "    https://gspread.readthedocs.io/en/latest/\n",
    "    https://developers.google.com/sheets/api/reference/rest/v4/spreadsheets/get\n",
    "    https://github.com/burnash/gspread"
   ]
  },
  {
   "cell_type": "markdown",
   "metadata": {},
   "source": [
    "## Iniciando a codificação"
   ]
  },
  {
   "cell_type": "code",
   "execution_count": 46,
   "metadata": {},
   "outputs": [],
   "source": [
    "#Importação das bibliotecas\n",
    "import gspread\n",
    "from oauth2client.service_account import ServiceAccountCredentials\n",
    "\n",
    "#Definição do escopo de trabalho, nesse caso, as duas API's que foram habilitadas no projeto do Google Cloud\n",
    "scope = ['https://spreadsheets.google.com/feeds', 'https://www.googleapis.com/auth/drive']\n",
    "\n",
    "#Veriável de controle das credenciais\n",
    "credentials = ServiceAccountCredentials.from_json_keyfile_name('matrizcurricularAtual.json', scope)\n",
    "\n",
    "#Verifica autorização\n",
    "gc = gspread.authorize(credentials)\n",
    "\n",
    "#Acessa a planilha criada atrvés da sua chave\n",
    "wks = gc.open_by_key('1pGQAPsFnCrAzwBQq4rqI9LehgwmZ-lhYIgaFZgNfMaE')\n",
    "\n",
    "#Acessa a primeira área de trabalho da planilha escolhida\n",
    "worksheet = wks.get_worksheet(0)"
   ]
  },
  {
   "cell_type": "markdown",
   "metadata": {},
   "source": [
    "### Adicionando uma linha à tabela"
   ]
  },
  {
   "cell_type": "code",
   "execution_count": 7,
   "metadata": {},
   "outputs": [
    {
     "data": {
      "text/plain": [
       "{'spreadsheetId': '1pGQAPsFnCrAzwBQq4rqI9LehgwmZ-lhYIgaFZgNfMaE',\n",
       " 'tableRange': \"'Página1'!A1:E7\",\n",
       " 'updates': {'spreadsheetId': '1pGQAPsFnCrAzwBQq4rqI9LehgwmZ-lhYIgaFZgNfMaE',\n",
       "  'updatedRange': \"'Página1'!A8:E8\",\n",
       "  'updatedRows': 1,\n",
       "  'updatedColumns': 5,\n",
       "  'updatedCells': 5}}"
      ]
     },
     "execution_count": 7,
     "metadata": {},
     "output_type": "execute_result"
    }
   ],
   "source": [
    "worksheet.append_row(['2','011001067','Pré-Cálculo','60','-'])"
   ]
  },
  {
   "cell_type": "markdown",
   "metadata": {},
   "source": [
    "### Adicionando várias linhas à tabela"
   ]
  },
  {
   "cell_type": "code",
   "execution_count": 15,
   "metadata": {},
   "outputs": [
    {
     "data": {
      "text/plain": [
       "{'spreadsheetId': '1pGQAPsFnCrAzwBQq4rqI9LehgwmZ-lhYIgaFZgNfMaE',\n",
       " 'tableRange': \"'Página1'!A1:E6\",\n",
       " 'updates': {'spreadsheetId': '1pGQAPsFnCrAzwBQq4rqI9LehgwmZ-lhYIgaFZgNfMaE',\n",
       "  'updatedRange': \"'Página1'!A7:E12\",\n",
       "  'updatedRows': 6,\n",
       "  'updatedColumns': 5,\n",
       "  'updatedCells': 30}}"
      ]
     },
     "execution_count": 15,
     "metadata": {},
     "output_type": "execute_result"
    }
   ],
   "source": [
    "worksheet.append_rows([['2','011001067','Pré-Calculo','60','-'],\n",
    "                       ['2','011001068','Gestão de ProcessosEmpresariais','30','-'],\n",
    "                       ['2','011001069','Lógica Matemática','30','-'],\n",
    "                       ['2','011001070','Arquitetura e Organização de Computadores II','60','011001063'],\n",
    "                       ['2','011001071','Banco de Dados I','60','-'],\n",
    "                       ['2','011001072','Algoritmos e Programação II','60','011001062']])"
   ]
  },
  {
   "cell_type": "markdown",
   "metadata": {},
   "source": [
    "### Retornando o valor de uma célula"
   ]
  },
  {
   "cell_type": "code",
   "execution_count": 24,
   "metadata": {},
   "outputs": [
    {
     "data": {
      "text/plain": [
       "'Código'"
      ]
     },
     "execution_count": 24,
     "metadata": {},
     "output_type": "execute_result"
    }
   ],
   "source": [
    "#Utilizando a identificação da coluna\n",
    "worksheet.get('B1').first()"
   ]
  },
  {
   "cell_type": "code",
   "execution_count": 25,
   "metadata": {},
   "outputs": [
    {
     "data": {
      "text/plain": [
       "'Código'"
      ]
     },
     "execution_count": 25,
     "metadata": {},
     "output_type": "execute_result"
    }
   ],
   "source": [
    "#Utilizando os índices (linha, coluna)\n",
    "worksheet.cell(1, 2).value"
   ]
  },
  {
   "cell_type": "markdown",
   "metadata": {},
   "source": [
    "### Retornando todos os valores de uma linha ou coluna"
   ]
  },
  {
   "cell_type": "code",
   "execution_count": 26,
   "metadata": {},
   "outputs": [
    {
     "data": {
      "text/plain": [
       "['Semestre', 'Código', 'Nome', 'Carga Horária', 'Pré-requisito']"
      ]
     },
     "execution_count": 26,
     "metadata": {},
     "output_type": "execute_result"
    }
   ],
   "source": [
    "worksheet.row_values(1)"
   ]
  },
  {
   "cell_type": "code",
   "execution_count": 27,
   "metadata": {},
   "outputs": [
    {
     "data": {
      "text/plain": [
       "['Nome',\n",
       " 'Algoritmos e Programação I',\n",
       " 'Arquitetura e Organização de Computadores I',\n",
       " 'Desenvolvimento Front-end',\n",
       " 'Inglês Instrumental',\n",
       " 'Leitura e Prática de Produção Textual',\n",
       " 'Pré-Calculo',\n",
       " 'Gestão de ProcessosEmpresariais',\n",
       " 'Lógica Matemática',\n",
       " 'Arquitetura e Organização de Computadores II',\n",
       " 'Banco de Dados I',\n",
       " 'Algoritmos e Programação II']"
      ]
     },
     "execution_count": 27,
     "metadata": {},
     "output_type": "execute_result"
    }
   ],
   "source": [
    "worksheet.col_values(3)"
   ]
  },
  {
   "cell_type": "markdown",
   "metadata": {},
   "source": [
    "### Exibindo todos os dados da planilha"
   ]
  },
  {
   "cell_type": "code",
   "execution_count": 28,
   "metadata": {},
   "outputs": [
    {
     "data": {
      "text/plain": [
       "[['Semestre', 'Código', 'Nome', 'Carga Horária', 'Pré-requisito'],\n",
       " ['1', '011001062', 'Algoritmos e Programação I', '60', '-'],\n",
       " ['1', '011001063', 'Arquitetura e Organização de Computadores I', '60', '-'],\n",
       " ['1', '011001064', 'Desenvolvimento Front-end', '60', '-'],\n",
       " ['1', '011001065', 'Inglês Instrumental', '60', '-'],\n",
       " ['1', '011001066', 'Leitura e Prática de Produção Textual', '60', '-'],\n",
       " ['2', '011001067', 'Pré-Calculo', '60', '-'],\n",
       " ['2', '011001068', 'Gestão de ProcessosEmpresariais', '30', '-'],\n",
       " ['2', '011001069', 'Lógica Matemática', '30', '-'],\n",
       " ['2',\n",
       "  '011001070',\n",
       "  'Arquitetura e Organização de Computadores II',\n",
       "  '60',\n",
       "  '011001063'],\n",
       " ['2', '011001071', 'Banco de Dados I', '60', '-'],\n",
       " ['2', '011001072', 'Algoritmos e Programação II', '60', '011001062']]"
      ]
     },
     "execution_count": 28,
     "metadata": {},
     "output_type": "execute_result"
    }
   ],
   "source": [
    "#A função get_all_records() retorna uma lista de listas\n",
    "worksheet.get_all_values()"
   ]
  },
  {
   "cell_type": "code",
   "execution_count": 29,
   "metadata": {},
   "outputs": [
    {
     "data": {
      "text/plain": [
       "[{'Semestre': 1,\n",
       "  'Código': 11001062,\n",
       "  'Nome': 'Algoritmos e Programação I',\n",
       "  'Carga Horária': 60,\n",
       "  'Pré-requisito': '-'},\n",
       " {'Semestre': 1,\n",
       "  'Código': 11001063,\n",
       "  'Nome': 'Arquitetura e Organização de Computadores I',\n",
       "  'Carga Horária': 60,\n",
       "  'Pré-requisito': '-'},\n",
       " {'Semestre': 1,\n",
       "  'Código': 11001064,\n",
       "  'Nome': 'Desenvolvimento Front-end',\n",
       "  'Carga Horária': 60,\n",
       "  'Pré-requisito': '-'},\n",
       " {'Semestre': 1,\n",
       "  'Código': 11001065,\n",
       "  'Nome': 'Inglês Instrumental',\n",
       "  'Carga Horária': 60,\n",
       "  'Pré-requisito': '-'},\n",
       " {'Semestre': 1,\n",
       "  'Código': 11001066,\n",
       "  'Nome': 'Leitura e Prática de Produção Textual',\n",
       "  'Carga Horária': 60,\n",
       "  'Pré-requisito': '-'},\n",
       " {'Semestre': 2,\n",
       "  'Código': 11001067,\n",
       "  'Nome': 'Pré-Calculo',\n",
       "  'Carga Horária': 60,\n",
       "  'Pré-requisito': '-'},\n",
       " {'Semestre': 2,\n",
       "  'Código': 11001068,\n",
       "  'Nome': 'Gestão de ProcessosEmpresariais',\n",
       "  'Carga Horária': 30,\n",
       "  'Pré-requisito': '-'},\n",
       " {'Semestre': 2,\n",
       "  'Código': 11001069,\n",
       "  'Nome': 'Lógica Matemática',\n",
       "  'Carga Horária': 30,\n",
       "  'Pré-requisito': '-'},\n",
       " {'Semestre': 2,\n",
       "  'Código': 11001070,\n",
       "  'Nome': 'Arquitetura e Organização de Computadores II',\n",
       "  'Carga Horária': 60,\n",
       "  'Pré-requisito': 11001063},\n",
       " {'Semestre': 2,\n",
       "  'Código': 11001071,\n",
       "  'Nome': 'Banco de Dados I',\n",
       "  'Carga Horária': 60,\n",
       "  'Pré-requisito': '-'},\n",
       " {'Semestre': 2,\n",
       "  'Código': 11001072,\n",
       "  'Nome': 'Algoritmos e Programação II',\n",
       "  'Carga Horária': 60,\n",
       "  'Pré-requisito': 11001062}]"
      ]
     },
     "execution_count": 29,
     "metadata": {},
     "output_type": "execute_result"
    }
   ],
   "source": [
    "#A função get_all_records() retorna uma lista de dicionários\n",
    "worksheet.get_all_records()"
   ]
  },
  {
   "cell_type": "markdown",
   "metadata": {},
   "source": [
    "### Encontrando uma célula combinada"
   ]
  },
  {
   "cell_type": "code",
   "execution_count": 34,
   "metadata": {},
   "outputs": [
    {
     "name": "stdout",
     "output_type": "stream",
     "text": [
      "Encontrado em Linha 2, Coluna 3.\n"
     ]
    }
   ],
   "source": [
    "#Com um valor exato de uma string\n",
    "cell = worksheet.find(\"Algoritmos e Programação I\")\n",
    "\n",
    "print(\"Encontrado em Linha %s, Coluna %s.\" % (cell.row, cell.col))"
   ]
  },
  {
   "cell_type": "markdown",
   "metadata": {},
   "source": [
    "### Encontrando todas as células combinadas"
   ]
  },
  {
   "cell_type": "code",
   "execution_count": 41,
   "metadata": {},
   "outputs": [
    {
     "data": {
      "text/plain": [
       "[<Cell R2C3 'Algoritmos e Programação I'>,\n",
       " <Cell R13C3 'Algoritmos e Programação I'>]"
      ]
     },
     "execution_count": 41,
     "metadata": {},
     "output_type": "execute_result"
    }
   ],
   "source": [
    "#Retorna uma lista com todas as células encontradas\n",
    "worksheet.findall(\"Algoritmos e Programação I\")"
   ]
  },
  {
   "cell_type": "markdown",
   "metadata": {},
   "source": [
    "### Atualizando células"
   ]
  },
  {
   "cell_type": "code",
   "execution_count": 42,
   "metadata": {},
   "outputs": [
    {
     "data": {
      "text/plain": [
       "{'spreadsheetId': '1pGQAPsFnCrAzwBQq4rqI9LehgwmZ-lhYIgaFZgNfMaE',\n",
       " 'updatedRange': \"'Página1'!G1\",\n",
       " 'updatedRows': 1,\n",
       " 'updatedColumns': 1,\n",
       " 'updatedCells': 1}"
      ]
     },
     "execution_count": 42,
     "metadata": {},
     "output_type": "execute_result"
    }
   ],
   "source": [
    "#Uma única célula\n",
    "worksheet.update('G1', 'Bingo!')\n"
   ]
  },
  {
   "cell_type": "code",
   "execution_count": 43,
   "metadata": {},
   "outputs": [
    {
     "data": {
      "text/plain": [
       "{'spreadsheetId': '1pGQAPsFnCrAzwBQq4rqI9LehgwmZ-lhYIgaFZgNfMaE',\n",
       " 'updatedRange': \"'Página1'!G2:H3\",\n",
       " 'updatedRows': 2,\n",
       " 'updatedColumns': 2,\n",
       " 'updatedCells': 4}"
      ]
     },
     "execution_count": 43,
     "metadata": {},
     "output_type": "execute_result"
    }
   ],
   "source": [
    "#Atualizando um intervalo\n",
    "worksheet.update('G2:H3', [[1, 2], [3, 4]])"
   ]
  },
  {
   "cell_type": "code",
   "execution_count": 44,
   "metadata": {},
   "outputs": [
    {
     "data": {
      "text/plain": [
       "{'spreadsheetId': '1pGQAPsFnCrAzwBQq4rqI9LehgwmZ-lhYIgaFZgNfMaE',\n",
       " 'totalUpdatedRows': 4,\n",
       " 'totalUpdatedColumns': 2,\n",
       " 'totalUpdatedCells': 8,\n",
       " 'totalUpdatedSheets': 1,\n",
       " 'responses': [{'spreadsheetId': '1pGQAPsFnCrAzwBQq4rqI9LehgwmZ-lhYIgaFZgNfMaE',\n",
       "   'updatedRange': \"'Página1'!G5:H6\",\n",
       "   'updatedRows': 2,\n",
       "   'updatedColumns': 2,\n",
       "   'updatedCells': 4},\n",
       "  {'spreadsheetId': '1pGQAPsFnCrAzwBQq4rqI9LehgwmZ-lhYIgaFZgNfMaE',\n",
       "   'updatedRange': \"'Página1'!G9:H10\",\n",
       "   'updatedRows': 2,\n",
       "   'updatedColumns': 2,\n",
       "   'updatedCells': 4}]}"
      ]
     },
     "execution_count": 44,
     "metadata": {},
     "output_type": "execute_result"
    }
   ],
   "source": [
    "#Atualizando vários intervalos de uma única vez\n",
    "worksheet.batch_update([{'range': 'G5:H6','values': [['G5', 'H5'], ['G6', 'H6']],},\n",
    "                        {'range': 'G9:H10','values': [['G9', 'H9'], ['G10', 'H10']],}])"
   ]
  },
  {
   "cell_type": "code",
   "execution_count": null,
   "metadata": {},
   "outputs": [],
   "source": []
  }
 ],
 "metadata": {
  "kernelspec": {
   "display_name": "Python 3",
   "language": "python",
   "name": "python3"
  },
  "language_info": {
   "codemirror_mode": {
    "name": "ipython",
    "version": 3
   },
   "file_extension": ".py",
   "mimetype": "text/x-python",
   "name": "python",
   "nbconvert_exporter": "python",
   "pygments_lexer": "ipython3",
   "version": "3.8.3"
  }
 },
 "nbformat": 4,
 "nbformat_minor": 4
}
