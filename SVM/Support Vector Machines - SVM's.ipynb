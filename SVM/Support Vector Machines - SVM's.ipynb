{
 "cells": [
  {
   "cell_type": "code",
   "execution_count": 9,
   "metadata": {},
   "outputs": [],
   "source": [
    "from sklearn import svm\n",
    "import matplotlib.pyplot as plt\n",
    "import numpy as np"
   ]
  },
  {
   "cell_type": "code",
   "execution_count": 10,
   "metadata": {},
   "outputs": [
    {
     "data": {
      "image/png": "[encoded data removed]",
      "text/plain": [
       "<Figure size 432x288 with 1 Axes>"
      ]
     },
     "metadata": {
      "needs_background": "light"
     },
     "output_type": "display_data"
    },
    {
     "data": {
      "text/plain": [
       "SVC()"
      ]
     },
     "execution_count": 10,
     "metadata": {},
     "output_type": "execute_result"
    }
   ],
   "source": [
    "X = [[0, 0], [0, 1], [1, 0], [1, 1]]\n",
    "X = np.array(X)\n",
    "y = [0, 1, 1, 1]\n",
    "\n",
    "plt.scatter(X[:, 0], X[:, 1], c=y, marker=u'x')\n",
    "plt.show()\n",
    "clf = svm.SVC()\n",
    "clf.fit(X, y)"
   ]
  },
  {
   "cell_type": "code",
   "execution_count": 11,
   "metadata": {},
   "outputs": [
    {
     "data": {
      "text/plain": [
       "array([1])"
      ]
     },
     "execution_count": 11,
     "metadata": {},
     "output_type": "execute_result"
    }
   ],
   "source": [
    "clf.predi ct([[2., 2.]])"
   ]
  },
  {
   "cell_type": "markdown",
   "metadata": {},
   "source": [
    "Observações:\n",
    "    \n",
    "    - Selecionar um texto que conheçamos a sua classificação (Ex.: um texto de algorítmo genético)\n",
    "    - Efetuar a sumarização\n",
    "    - Remover as stopwords\n",
    "    - Criar um vetor de tokens separados por palavras\n",
    "    - Criar uma saída de resposta\n",
    "    \n",
    "    - Selecionar um texto que não faz parte da classificação selecionada\n",
    "    - Efetuar a sumarização\n",
    "    - Remover as stopwords\n",
    "    - Criar um vetor de tokens separados por palavras\n",
    "    - Criar uma saída de resposta\n",
    "    \n",
    "    - Selecionar um texto que não faz parte da classificação selecionada\n",
    "    - Efetuar a sumarização\n",
    "    - Remover as stopwords\n",
    "    - Criar um vetor de tokens separados por palavras\n",
    "    - Criar uma saída de resposta\n",
    "    "
   ]
  }
 ],
 "metadata": {
  "kernelspec": {
   "display_name": "Python 3",
   "language": "python",
   "name": "python3"
  },
  "language_info": {
   "codemirror_mode": {
    "name": "ipython",
    "version": 3
   },
   "file_extension": ".py",
   "mimetype": "text/x-python",
   "name": "python",
   "nbconvert_exporter": "python",
   "pygments_lexer": "ipython3",
   "version": "3.8.3"
  }
 },
 "nbformat": 4,
 "nbformat_minor": 4
}
